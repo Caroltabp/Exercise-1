{
  "cells": [
    {
      "cell_type": "markdown",
      "metadata": {
        "id": "view-in-github",
        "colab_type": "text"
      },
      "source": [
        "<a href=\"https://colab.research.google.com/github/Caroltabp/Exercise-1/blob/main/case_basic_statistics_concepts_in_python_review_module_fellow_CTP.ipynb\" target=\"_parent\"><img src=\"https://colab.research.google.com/assets/colab-badge.svg\" alt=\"Open In Colab\"/></a>"
      ]
    },
    {
      "cell_type": "markdown",
      "metadata": {
        "deletable": false,
        "editable": false,
        "nbgrader": {
          "cell_type": "markdown",
          "checksum": "aeb8250fa408c958cc65c55f2937dd75",
          "grade": false,
          "grade_id": "cell-de8b6076afa79604",
          "locked": true,
          "schema_version": 3,
          "solution": false,
          "task": false
        },
        "id": "Pq6kpESP0f1z"
      },
      "source": [
        "# Case 7.6 review module"
      ]
    },
    {
      "cell_type": "markdown",
      "metadata": {
        "deletable": false,
        "editable": false,
        "nbgrader": {
          "cell_type": "markdown",
          "checksum": "d46f43b40c2e6c83a2829c10ced4160f",
          "grade": false,
          "grade_id": "cell-d4559a410fe99078",
          "locked": true,
          "schema_version": 3,
          "solution": false,
          "task": false
        },
        "id": "XKJviLJN0f10"
      },
      "source": [
        "**Instructions**\n",
        "\n",
        "In order to complete this review module, we recommend you follow these instructions:\n",
        "\n",
        "1. Complete the functions provided to you in this notebook, but do **not** change the name of the function or the name(s) of the argument(s). If you do that, the autograder will fail and you will not receive any points.\n",
        "2. Remove from each function the code `raise NotImplementedError()` and replace it with your implementation.\n",
        "3. Run all the function-definition cells before you run the testing cells. The functions must exist before they are graded!\n",
        "4. Read the function docstrings carefully. They contain additional information about how the code should look (a [docstring](https://www.datacamp.com/community/tutorials/docstrings-python) is the stuff that comes between the triple quotes)."
      ]
    },
    {
      "cell_type": "code",
      "execution_count": null,
      "metadata": {
        "deletable": false,
        "editable": false,
        "nbgrader": {
          "cell_type": "code",
          "checksum": "a6ba02de421c201197e1f03e67fb74d9",
          "grade": false,
          "grade_id": "cell-8dd10512ac691626",
          "locked": true,
          "schema_version": 3,
          "solution": false,
          "task": false
        },
        "id": "rLVuAQ-Z0f10"
      },
      "outputs": [],
      "source": [
        "# Loading the data\n",
        "import pandas as pd\n",
        "import numpy as np\n",
        "df = pd.read_csv(\"data/insurance.csv\")"
      ]
    },
    {
      "cell_type": "markdown",
      "metadata": {
        "deletable": false,
        "editable": false,
        "nbgrader": {
          "cell_type": "markdown",
          "checksum": "823b79542a679435b402517a1c0f488d",
          "grade": false,
          "grade_id": "cell-e3179b142e50a106",
          "locked": true,
          "schema_version": 3,
          "solution": false,
          "task": false
        },
        "id": "MUridG9u0f11"
      },
      "source": [
        "## Exercise 1\n",
        "\n",
        "Which region is the most common in the dataset? **Hint**: You may use Pandas' built-in `.mode()` method if you like."
      ]
    },
    {
      "cell_type": "code",
      "execution_count": null,
      "metadata": {
        "deletable": false,
        "nbgrader": {
          "cell_type": "code",
          "checksum": "0128369e0d11acf3a082d2f288d4459f",
          "grade": false,
          "grade_id": "cell-86d5cd984b17f31d",
          "locked": false,
          "schema_version": 3,
          "solution": true,
          "task": false
        },
        "id": "eDN9Q_-f0f11"
      },
      "outputs": [],
      "source": [
        "def find_most_common_region(df):\n",
        "    \"\"\"\n",
        "    Find the most common region.\n",
        "\n",
        "    Arguments:\n",
        "    df: The Pandas dataframe (the dataset)\n",
        "\n",
        "    Output:\n",
        "    answer: A string.\n",
        "    \"\"\"\n",
        "\n",
        "    # YOUR CODE HERE\n",
        "\n",
        "\n",
        "    return df[\"region\"].mode()[0]"
      ]
    },
    {
      "cell_type": "markdown",
      "metadata": {
        "deletable": false,
        "editable": false,
        "nbgrader": {
          "cell_type": "markdown",
          "checksum": "bd9dacd291b5d1b040e7a5c95008126f",
          "grade": false,
          "grade_id": "cell-1fc02b634eaba84d",
          "locked": true,
          "schema_version": 3,
          "solution": false,
          "task": false
        },
        "id": "x1tiAeK60f11"
      },
      "source": [
        "## Exercise 2\n",
        "\n",
        "You can easily create a frequency table of the ages present in the dataset with the `.value_counts()` method, and report only the 10 most common:\n",
        "\n",
        "```python\n",
        "data['age'].value_counts().head(10)\n",
        "\n",
        "```\n",
        "\n",
        "If you run the code above, you'll find that the most common ages are 18 and 19. Just for fun, do the same using the `.groupby()` method and the `.count()` aggregation function. Notice that the function you have to submit has two outputs (which should be returned in this specific order): the frequency table (identical to the one that `.value_counts()` produces) and the [groupby object](https://pandas.pydata.org/pandas-docs/stable/reference/groupby.html) you used to calculate it."
      ]
    },
    {
      "cell_type": "code",
      "execution_count": null,
      "metadata": {
        "id": "Z1kDYc3u0f11",
        "outputId": "359f77be-5150-455d-e8ed-0a306f5d6216"
      },
      "outputs": [
        {
          "data": {
            "text/html": [
              "<div>\n",
              "<style scoped>\n",
              "    .dataframe tbody tr th:only-of-type {\n",
              "        vertical-align: middle;\n",
              "    }\n",
              "\n",
              "    .dataframe tbody tr th {\n",
              "        vertical-align: top;\n",
              "    }\n",
              "\n",
              "    .dataframe thead th {\n",
              "        text-align: right;\n",
              "    }\n",
              "</style>\n",
              "<table border=\"1\" class=\"dataframe\">\n",
              "  <thead>\n",
              "    <tr style=\"text-align: right;\">\n",
              "      <th></th>\n",
              "      <th>sex</th>\n",
              "    </tr>\n",
              "    <tr>\n",
              "      <th>age</th>\n",
              "      <th></th>\n",
              "    </tr>\n",
              "  </thead>\n",
              "  <tbody>\n",
              "    <tr>\n",
              "      <th>18</th>\n",
              "      <td>69</td>\n",
              "    </tr>\n",
              "    <tr>\n",
              "      <th>19</th>\n",
              "      <td>68</td>\n",
              "    </tr>\n",
              "    <tr>\n",
              "      <th>20</th>\n",
              "      <td>29</td>\n",
              "    </tr>\n",
              "    <tr>\n",
              "      <th>51</th>\n",
              "      <td>29</td>\n",
              "    </tr>\n",
              "    <tr>\n",
              "      <th>45</th>\n",
              "      <td>29</td>\n",
              "    </tr>\n",
              "    <tr>\n",
              "      <th>46</th>\n",
              "      <td>29</td>\n",
              "    </tr>\n",
              "    <tr>\n",
              "      <th>47</th>\n",
              "      <td>29</td>\n",
              "    </tr>\n",
              "    <tr>\n",
              "      <th>48</th>\n",
              "      <td>29</td>\n",
              "    </tr>\n",
              "    <tr>\n",
              "      <th>50</th>\n",
              "      <td>29</td>\n",
              "    </tr>\n",
              "    <tr>\n",
              "      <th>52</th>\n",
              "      <td>29</td>\n",
              "    </tr>\n",
              "  </tbody>\n",
              "</table>\n",
              "</div>"
            ],
            "text/plain": [
              "     sex\n",
              "age     \n",
              "18    69\n",
              "19    68\n",
              "20    29\n",
              "51    29\n",
              "45    29\n",
              "46    29\n",
              "47    29\n",
              "48    29\n",
              "50    29\n",
              "52    29"
            ]
          },
          "execution_count": 30,
          "metadata": {},
          "output_type": "execute_result"
        }
      ],
      "source": [
        "df[[\"age\",\"sex\"]].groupby(\"age\").count().sort_values(by=\"sex\", ascending=False).head(10)"
      ]
    },
    {
      "cell_type": "code",
      "execution_count": null,
      "metadata": {
        "deletable": false,
        "nbgrader": {
          "cell_type": "code",
          "checksum": "2830a295b5a1cc0553e436aa27a6b574",
          "grade": false,
          "grade_id": "cell-6dd51bae55a3921b",
          "locked": false,
          "schema_version": 3,
          "solution": true,
          "task": false
        },
        "id": "KYBjBGL00f12"
      },
      "outputs": [],
      "source": [
        "def find_top10_ages(df):\n",
        "    \"\"\"\n",
        "    Find the 10 most common ages.\n",
        "\n",
        "    Arguments:\n",
        "    df: The Pandas dataframe (the dataset)\n",
        "\n",
        "    Output:\n",
        "    answer: A sorted 10-row Pandas series in which the index is the ages and the values are the frequencies.\n",
        "    gob: The groupby object that you used to calculate answer.\n",
        "    \"\"\"\n",
        "\n",
        "    gob = df[[\"age\",\"sex\"]].groupby(\"age\")\n",
        "    answer = gob.size().sort_values(ascending=False).head(10)\n",
        "    type(answer)\n",
        "\n",
        "    # YOUR CODE HERE\n",
        "    return answer, gob"
      ]
    },
    {
      "cell_type": "markdown",
      "metadata": {
        "deletable": false,
        "editable": false,
        "nbgrader": {
          "cell_type": "markdown",
          "checksum": "53fdfbe535769aba5526a7e18a5e07c5",
          "grade": false,
          "grade_id": "cell-a1a7ba7a59fbc4d2",
          "locked": true,
          "schema_version": 3,
          "solution": false,
          "task": false
        },
        "id": "eOuplQXu0f12"
      },
      "source": [
        "## Exercise 3\n",
        "\n",
        "What is the correlation between age and number of children?"
      ]
    },
    {
      "cell_type": "code",
      "execution_count": null,
      "metadata": {
        "deletable": false,
        "nbgrader": {
          "cell_type": "code",
          "checksum": "a824eac42fee4a5bb3c8d5a48558745a",
          "grade": false,
          "grade_id": "cell-af59dc5444431930",
          "locked": false,
          "schema_version": 3,
          "solution": true,
          "task": false
        },
        "id": "_mZ2DBrM0f12"
      },
      "outputs": [],
      "source": [
        "def find_corr_age_children(df):\n",
        "    \"\"\"\n",
        "    Find the Pearson correlation coefficient of age and number of children\n",
        "\n",
        "    Arguments:\n",
        "    df: The Pandas dataframe (the dataset)\n",
        "\n",
        "    Output:\n",
        "    answer: A float or numpy float64.\n",
        "    \"\"\"\n",
        "\n",
        "    # YOUR CODE HERE\n",
        "\n",
        "    return df.corr()[\"age\"][\"children\"]"
      ]
    },
    {
      "cell_type": "markdown",
      "metadata": {
        "deletable": false,
        "editable": false,
        "nbgrader": {
          "cell_type": "markdown",
          "checksum": "c6f4572f66773354119f19a4ca7729e5",
          "grade": false,
          "grade_id": "cell-45692adba8889ff4",
          "locked": true,
          "schema_version": 3,
          "solution": false,
          "task": false
        },
        "id": "b2xsoVNI0f13"
      },
      "source": [
        "## Testing Cells\n",
        "\n",
        "Run the below cells to check your answers. Make sure you run your solution cells first, otherwise you will get a `NameError` when checking your answers."
      ]
    },
    {
      "cell_type": "code",
      "execution_count": null,
      "metadata": {
        "deletable": false,
        "editable": false,
        "nbgrader": {
          "cell_type": "code",
          "checksum": "169d15b969577a28f52e06d9d96a08ac",
          "grade": true,
          "grade_id": "cell-d89c73a6ecd58ee4",
          "locked": true,
          "points": 1,
          "schema_version": 3,
          "solution": false,
          "task": false
        },
        "id": "EqjwBPdQ0f13",
        "outputId": "ab35b244-faec-4e4f-9704-89149d637fa1"
      },
      "outputs": [
        {
          "name": "stdout",
          "output_type": "stream",
          "text": [
            "Exercise 1 looks correct!\n"
          ]
        }
      ],
      "source": [
        "# Ex 1\n",
        "assert type(find_most_common_region(df)) == type('northwest'), 'Exercise 1: Your output doesn\\'t seem to be a string! Check it using type(). Maybe you passed a Pandas Series as the output? To extract a value from a Series s, you can index like this s[x], where x is the position of the element.'\n",
        "assert find_most_common_region(df) == 'southeast', 'Exercise 1: This is not the right region. If you\\'re using .mode(), make sure you are working with the region column.'\n",
        "print(\"Exercise 1 looks correct!\")"
      ]
    },
    {
      "cell_type": "code",
      "execution_count": null,
      "metadata": {
        "deletable": false,
        "editable": false,
        "nbgrader": {
          "cell_type": "code",
          "checksum": "7365c70bdcc91881a1e376ea8ee9420f",
          "grade": true,
          "grade_id": "cell-a494eb95874a3cf1",
          "locked": true,
          "points": 2,
          "schema_version": 3,
          "solution": false,
          "task": false
        },
        "id": "7SnDxy0z0f13",
        "outputId": "dfdb8b9e-0b8b-4bee-b08f-725bb5d8d134"
      },
      "outputs": [
        {
          "name": "stdout",
          "output_type": "stream",
          "text": [
            "Exercise 2 looks correct!\n"
          ]
        }
      ],
      "source": [
        "# Ex 2\n",
        "assert len(find_top10_ages(df)) == 2, 'Exercise 2: Make sure your function outputs two objects: The frequency table and the GroupBy object.'\n",
        "plants = pd.DataFrame({'Plant': ['Rose', 'Rose','Lily', 'Lily'],'Max Growth': [380., 370., 24., 26.]})\n",
        "gb = plants.groupby(['Plant'])\n",
        "assert type(find_top10_ages(df)[0]) == type(plants['Plant']), 'Exercise 2: Are you sure your table is a Series? You can check with the type() command.'\n",
        "assert len(find_top10_ages(df)[0]) == 10, \"Exercise 2: Your frequency table doesn't have 10 rows! To get the first 10 rows of a Series, use .head(10).\"\n",
        "assert list(find_top10_ages(df)[0].values) == [69, 68, 29, 29, 29, 29, 29, 29, 29, 29], \"Exercise 2: Hmmm, your frequencies don't match ours. Check again! Maybe they aren't properly sorted? To sort a series Z -> A, use .sort_values(ascending=False)\"\n",
        "assert set(list(find_top10_ages(df)[0].index)) == set([18, 19, 51, 45, 46, 47, 48, 50, 52, 20]), \"Exercise 2: Check the ages... Are they correct? They should be the index of the series, and should be integers. To access the index of a Pandas series s, run s.index\"\n",
        "assert type(find_top10_ages(df)[1]) == type(gb), 'Exercise 2: Did you submit a GroupBy object? You can check with the type() command.'\n",
        "print(\"Exercise 2 looks correct!\")"
      ]
    },
    {
      "cell_type": "code",
      "execution_count": null,
      "metadata": {
        "deletable": false,
        "editable": false,
        "nbgrader": {
          "cell_type": "code",
          "checksum": "b6a36b6fe41e2aba9f5141feaf209c38",
          "grade": true,
          "grade_id": "cell-ace4d92244873f15",
          "locked": true,
          "points": 1,
          "schema_version": 3,
          "solution": false,
          "task": false
        },
        "id": "en7wDVmF0f13",
        "outputId": "58696b4b-f258-4f1a-b874-a0b14696ddba"
      },
      "outputs": [
        {
          "name": "stdout",
          "output_type": "stream",
          "text": [
            "Exercise 3 looks correct!\n"
          ]
        }
      ],
      "source": [
        "# Ex 3\n",
        "assert (type(find_corr_age_children(df)) == type(0.05) or type(find_corr_age_children(df)) == type(np.float64(4))), \"Exercise 3: You passed something that is not a float number or a numpy float64! Check with type(). You can use the .corr() method to create the correlation matrix, but then you have to extract only the number you are interested in. To access a specific element in a matrix, you can use the .iloc[] method.\"\n",
        "assert abs(find_corr_age_children(df) - 0.042468998558849488) <= 0.05, \"Exercise 3: Check your results! This number is way off from the true correlation!\"\n",
        "print(\"Exercise 3 looks correct!\")"
      ]
    },
    {
      "cell_type": "code",
      "execution_count": null,
      "metadata": {
        "id": "qfJf3O090f13"
      },
      "outputs": [],
      "source": []
    }
  ],
  "metadata": {
    "c1_recart": "7.20.0-57c20131aabc1dc2a8c675852d80a7da",
    "kernelspec": {
      "display_name": "Python 3",
      "language": "python",
      "name": "python3"
    },
    "language_info": {
      "codemirror_mode": {
        "name": "ipython",
        "version": 3
      },
      "file_extension": ".py",
      "mimetype": "text/x-python",
      "name": "python",
      "nbconvert_exporter": "python",
      "pygments_lexer": "ipython3",
      "version": "3.8.12"
    },
    "colab": {
      "provenance": [],
      "include_colab_link": true
    }
  },
  "nbformat": 4,
  "nbformat_minor": 0
}